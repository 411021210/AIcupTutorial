{
  "cells": [
    {
      "cell_type": "markdown",
      "metadata": {
        "id": "view-in-github",
        "colab_type": "text"
      },
      "source": [
        "<a href=\"https://colab.research.google.com/github/411021210/AIcupTutorial/blob/main/%E3%80%8CDan_Training_Tutorial_checkpoint_ipynb%E3%80%8D%E7%9A%84%E5%89%AF%E6%9C%AC.ipynb\" target=\"_parent\"><img src=\"https://colab.research.google.com/assets/colab-badge.svg\" alt=\"Open In Colab\"/></a>"
      ]
    },
    {
      "cell_type": "code",
      "execution_count": 3,
      "id": "bb173248",
      "metadata": {
        "id": "bb173248"
      },
      "outputs": [],
      "source": [
        "import tensorflow as tf\n",
        "from tensorflow.keras.models import Model\n",
        "from tensorflow.keras.layers import Input, Conv2D, ReLU, Flatten, Dense, Softmax\n",
        "from tensorflow.keras.optimizers import Adam\n",
        "import numpy as np\n",
        "from sklearn.model_selection import train_test_split"
      ]
    },
    {
      "cell_type": "code",
      "execution_count": 4,
      "id": "62384345",
      "metadata": {
        "id": "62384345",
        "outputId": "f0ef859c-6b9d-4882-da8e-8b75f6e73e1b",
        "colab": {
          "base_uri": "https://localhost:8080/",
          "height": 36
        }
      },
      "outputs": [
        {
          "output_type": "execute_result",
          "data": {
            "text/plain": [
              "'2.14.0'"
            ],
            "application/vnd.google.colaboratory.intrinsic+json": {
              "type": "string"
            }
          },
          "metadata": {},
          "execution_count": 4
        }
      ],
      "source": [
        "tf.__version__"
      ]
    },
    {
      "cell_type": "code",
      "source": [
        "!pip install google.colab #如未安裝取消註解後執行\n",
        "import os\n",
        "\n",
        "from google.colab import drive\n",
        "drive.mount('/content/drive')\n",
        "os.chdir('/content/drive/My Drive/AICup')"
      ],
      "metadata": {
        "colab": {
          "base_uri": "https://localhost:8080/"
        },
        "id": "sZfnefCsBW7t",
        "outputId": "6264f2dd-da28-48d2-e4b6-8362bf782ca1"
      },
      "id": "sZfnefCsBW7t",
      "execution_count": 8,
      "outputs": [
        {
          "output_type": "stream",
          "name": "stdout",
          "text": [
            "Requirement already satisfied: google.colab in /usr/local/lib/python3.10/dist-packages (1.0.0)\n",
            "Requirement already satisfied: google-auth==2.17.3 in /usr/local/lib/python3.10/dist-packages (from google.colab) (2.17.3)\n",
            "Requirement already satisfied: ipykernel==5.5.6 in /usr/local/lib/python3.10/dist-packages (from google.colab) (5.5.6)\n",
            "Requirement already satisfied: ipython==7.34.0 in /usr/local/lib/python3.10/dist-packages (from google.colab) (7.34.0)\n",
            "Requirement already satisfied: notebook==6.5.5 in /usr/local/lib/python3.10/dist-packages (from google.colab) (6.5.5)\n",
            "Requirement already satisfied: pandas==1.5.3 in /usr/local/lib/python3.10/dist-packages (from google.colab) (1.5.3)\n",
            "Requirement already satisfied: portpicker==1.5.2 in /usr/local/lib/python3.10/dist-packages (from google.colab) (1.5.2)\n",
            "Requirement already satisfied: requests==2.31.0 in /usr/local/lib/python3.10/dist-packages (from google.colab) (2.31.0)\n",
            "Requirement already satisfied: tornado==6.3.2 in /usr/local/lib/python3.10/dist-packages (from google.colab) (6.3.2)\n",
            "Requirement already satisfied: cachetools<6.0,>=2.0.0 in /usr/local/lib/python3.10/dist-packages (from google-auth==2.17.3->google.colab) (5.3.2)\n",
            "Requirement already satisfied: pyasn1-modules>=0.2.1 in /usr/local/lib/python3.10/dist-packages (from google-auth==2.17.3->google.colab) (0.3.0)\n",
            "Requirement already satisfied: six>=1.9.0 in /usr/local/lib/python3.10/dist-packages (from google-auth==2.17.3->google.colab) (1.16.0)\n",
            "Requirement already satisfied: rsa<5,>=3.1.4 in /usr/local/lib/python3.10/dist-packages (from google-auth==2.17.3->google.colab) (4.9)\n",
            "Requirement already satisfied: ipython-genutils in /usr/local/lib/python3.10/dist-packages (from ipykernel==5.5.6->google.colab) (0.2.0)\n",
            "Requirement already satisfied: traitlets>=4.1.0 in /usr/local/lib/python3.10/dist-packages (from ipykernel==5.5.6->google.colab) (5.7.1)\n",
            "Requirement already satisfied: jupyter-client in /usr/local/lib/python3.10/dist-packages (from ipykernel==5.5.6->google.colab) (6.1.12)\n",
            "Requirement already satisfied: setuptools>=18.5 in /usr/local/lib/python3.10/dist-packages (from ipython==7.34.0->google.colab) (67.7.2)\n",
            "Requirement already satisfied: jedi>=0.16 in /usr/local/lib/python3.10/dist-packages (from ipython==7.34.0->google.colab) (0.19.1)\n",
            "Requirement already satisfied: decorator in /usr/local/lib/python3.10/dist-packages (from ipython==7.34.0->google.colab) (4.4.2)\n",
            "Requirement already satisfied: pickleshare in /usr/local/lib/python3.10/dist-packages (from ipython==7.34.0->google.colab) (0.7.5)\n",
            "Requirement already satisfied: prompt-toolkit!=3.0.0,!=3.0.1,<3.1.0,>=2.0.0 in /usr/local/lib/python3.10/dist-packages (from ipython==7.34.0->google.colab) (3.0.39)\n",
            "Requirement already satisfied: pygments in /usr/local/lib/python3.10/dist-packages (from ipython==7.34.0->google.colab) (2.16.1)\n",
            "Requirement already satisfied: backcall in /usr/local/lib/python3.10/dist-packages (from ipython==7.34.0->google.colab) (0.2.0)\n",
            "Requirement already satisfied: matplotlib-inline in /usr/local/lib/python3.10/dist-packages (from ipython==7.34.0->google.colab) (0.1.6)\n",
            "Requirement already satisfied: pexpect>4.3 in /usr/local/lib/python3.10/dist-packages (from ipython==7.34.0->google.colab) (4.8.0)\n",
            "Requirement already satisfied: jinja2 in /usr/local/lib/python3.10/dist-packages (from notebook==6.5.5->google.colab) (3.1.2)\n",
            "Requirement already satisfied: pyzmq<25,>=17 in /usr/local/lib/python3.10/dist-packages (from notebook==6.5.5->google.colab) (23.2.1)\n",
            "Requirement already satisfied: argon2-cffi in /usr/local/lib/python3.10/dist-packages (from notebook==6.5.5->google.colab) (23.1.0)\n",
            "Requirement already satisfied: jupyter-core>=4.6.1 in /usr/local/lib/python3.10/dist-packages (from notebook==6.5.5->google.colab) (5.4.0)\n",
            "Requirement already satisfied: nbformat in /usr/local/lib/python3.10/dist-packages (from notebook==6.5.5->google.colab) (5.9.2)\n",
            "Requirement already satisfied: nbconvert>=5 in /usr/local/lib/python3.10/dist-packages (from notebook==6.5.5->google.colab) (6.5.4)\n",
            "Requirement already satisfied: nest-asyncio>=1.5 in /usr/local/lib/python3.10/dist-packages (from notebook==6.5.5->google.colab) (1.5.8)\n",
            "Requirement already satisfied: Send2Trash>=1.8.0 in /usr/local/lib/python3.10/dist-packages (from notebook==6.5.5->google.colab) (1.8.2)\n",
            "Requirement already satisfied: terminado>=0.8.3 in /usr/local/lib/python3.10/dist-packages (from notebook==6.5.5->google.colab) (0.17.1)\n",
            "Requirement already satisfied: prometheus-client in /usr/local/lib/python3.10/dist-packages (from notebook==6.5.5->google.colab) (0.17.1)\n",
            "Requirement already satisfied: nbclassic>=0.4.7 in /usr/local/lib/python3.10/dist-packages (from notebook==6.5.5->google.colab) (1.0.0)\n",
            "Requirement already satisfied: python-dateutil>=2.8.1 in /usr/local/lib/python3.10/dist-packages (from pandas==1.5.3->google.colab) (2.8.2)\n",
            "Requirement already satisfied: pytz>=2020.1 in /usr/local/lib/python3.10/dist-packages (from pandas==1.5.3->google.colab) (2023.3.post1)\n",
            "Requirement already satisfied: numpy>=1.21.0 in /usr/local/lib/python3.10/dist-packages (from pandas==1.5.3->google.colab) (1.23.5)\n",
            "Requirement already satisfied: psutil in /usr/local/lib/python3.10/dist-packages (from portpicker==1.5.2->google.colab) (5.9.5)\n",
            "Requirement already satisfied: charset-normalizer<4,>=2 in /usr/local/lib/python3.10/dist-packages (from requests==2.31.0->google.colab) (3.3.1)\n",
            "Requirement already satisfied: idna<4,>=2.5 in /usr/local/lib/python3.10/dist-packages (from requests==2.31.0->google.colab) (3.4)\n",
            "Requirement already satisfied: urllib3<3,>=1.21.1 in /usr/local/lib/python3.10/dist-packages (from requests==2.31.0->google.colab) (2.0.7)\n",
            "Requirement already satisfied: certifi>=2017.4.17 in /usr/local/lib/python3.10/dist-packages (from requests==2.31.0->google.colab) (2023.7.22)\n",
            "Requirement already satisfied: parso<0.9.0,>=0.8.3 in /usr/local/lib/python3.10/dist-packages (from jedi>=0.16->ipython==7.34.0->google.colab) (0.8.3)\n",
            "Requirement already satisfied: platformdirs>=2.5 in /usr/local/lib/python3.10/dist-packages (from jupyter-core>=4.6.1->notebook==6.5.5->google.colab) (3.11.0)\n",
            "Requirement already satisfied: jupyter-server>=1.8 in /usr/local/lib/python3.10/dist-packages (from nbclassic>=0.4.7->notebook==6.5.5->google.colab) (1.24.0)\n",
            "Requirement already satisfied: notebook-shim>=0.2.3 in /usr/local/lib/python3.10/dist-packages (from nbclassic>=0.4.7->notebook==6.5.5->google.colab) (0.2.3)\n",
            "Requirement already satisfied: lxml in /usr/local/lib/python3.10/dist-packages (from nbconvert>=5->notebook==6.5.5->google.colab) (4.9.3)\n",
            "Requirement already satisfied: beautifulsoup4 in /usr/local/lib/python3.10/dist-packages (from nbconvert>=5->notebook==6.5.5->google.colab) (4.11.2)\n",
            "Requirement already satisfied: bleach in /usr/local/lib/python3.10/dist-packages (from nbconvert>=5->notebook==6.5.5->google.colab) (6.1.0)\n",
            "Requirement already satisfied: defusedxml in /usr/local/lib/python3.10/dist-packages (from nbconvert>=5->notebook==6.5.5->google.colab) (0.7.1)\n",
            "Requirement already satisfied: entrypoints>=0.2.2 in /usr/local/lib/python3.10/dist-packages (from nbconvert>=5->notebook==6.5.5->google.colab) (0.4)\n",
            "Requirement already satisfied: jupyterlab-pygments in /usr/local/lib/python3.10/dist-packages (from nbconvert>=5->notebook==6.5.5->google.colab) (0.2.2)\n",
            "Requirement already satisfied: MarkupSafe>=2.0 in /usr/local/lib/python3.10/dist-packages (from nbconvert>=5->notebook==6.5.5->google.colab) (2.1.3)\n",
            "Requirement already satisfied: mistune<2,>=0.8.1 in /usr/local/lib/python3.10/dist-packages (from nbconvert>=5->notebook==6.5.5->google.colab) (0.8.4)\n",
            "Requirement already satisfied: nbclient>=0.5.0 in /usr/local/lib/python3.10/dist-packages (from nbconvert>=5->notebook==6.5.5->google.colab) (0.8.0)\n",
            "Requirement already satisfied: packaging in /usr/local/lib/python3.10/dist-packages (from nbconvert>=5->notebook==6.5.5->google.colab) (23.2)\n",
            "Requirement already satisfied: pandocfilters>=1.4.1 in /usr/local/lib/python3.10/dist-packages (from nbconvert>=5->notebook==6.5.5->google.colab) (1.5.0)\n",
            "Requirement already satisfied: tinycss2 in /usr/local/lib/python3.10/dist-packages (from nbconvert>=5->notebook==6.5.5->google.colab) (1.2.1)\n",
            "Requirement already satisfied: fastjsonschema in /usr/local/lib/python3.10/dist-packages (from nbformat->notebook==6.5.5->google.colab) (2.18.1)\n",
            "Requirement already satisfied: jsonschema>=2.6 in /usr/local/lib/python3.10/dist-packages (from nbformat->notebook==6.5.5->google.colab) (4.19.1)\n",
            "Requirement already satisfied: ptyprocess>=0.5 in /usr/local/lib/python3.10/dist-packages (from pexpect>4.3->ipython==7.34.0->google.colab) (0.7.0)\n",
            "Requirement already satisfied: wcwidth in /usr/local/lib/python3.10/dist-packages (from prompt-toolkit!=3.0.0,!=3.0.1,<3.1.0,>=2.0.0->ipython==7.34.0->google.colab) (0.2.8)\n",
            "Requirement already satisfied: pyasn1<0.6.0,>=0.4.6 in /usr/local/lib/python3.10/dist-packages (from pyasn1-modules>=0.2.1->google-auth==2.17.3->google.colab) (0.5.0)\n",
            "Requirement already satisfied: argon2-cffi-bindings in /usr/local/lib/python3.10/dist-packages (from argon2-cffi->notebook==6.5.5->google.colab) (21.2.0)\n",
            "Requirement already satisfied: attrs>=22.2.0 in /usr/local/lib/python3.10/dist-packages (from jsonschema>=2.6->nbformat->notebook==6.5.5->google.colab) (23.1.0)\n",
            "Requirement already satisfied: jsonschema-specifications>=2023.03.6 in /usr/local/lib/python3.10/dist-packages (from jsonschema>=2.6->nbformat->notebook==6.5.5->google.colab) (2023.7.1)\n",
            "Requirement already satisfied: referencing>=0.28.4 in /usr/local/lib/python3.10/dist-packages (from jsonschema>=2.6->nbformat->notebook==6.5.5->google.colab) (0.30.2)\n",
            "Requirement already satisfied: rpds-py>=0.7.1 in /usr/local/lib/python3.10/dist-packages (from jsonschema>=2.6->nbformat->notebook==6.5.5->google.colab) (0.10.6)\n",
            "Requirement already satisfied: anyio<4,>=3.1.0 in /usr/local/lib/python3.10/dist-packages (from jupyter-server>=1.8->nbclassic>=0.4.7->notebook==6.5.5->google.colab) (3.7.1)\n",
            "Requirement already satisfied: websocket-client in /usr/local/lib/python3.10/dist-packages (from jupyter-server>=1.8->nbclassic>=0.4.7->notebook==6.5.5->google.colab) (1.6.4)\n",
            "Requirement already satisfied: cffi>=1.0.1 in /usr/local/lib/python3.10/dist-packages (from argon2-cffi-bindings->argon2-cffi->notebook==6.5.5->google.colab) (1.16.0)\n",
            "Requirement already satisfied: soupsieve>1.2 in /usr/local/lib/python3.10/dist-packages (from beautifulsoup4->nbconvert>=5->notebook==6.5.5->google.colab) (2.5)\n",
            "Requirement already satisfied: webencodings in /usr/local/lib/python3.10/dist-packages (from bleach->nbconvert>=5->notebook==6.5.5->google.colab) (0.5.1)\n",
            "Requirement already satisfied: sniffio>=1.1 in /usr/local/lib/python3.10/dist-packages (from anyio<4,>=3.1.0->jupyter-server>=1.8->nbclassic>=0.4.7->notebook==6.5.5->google.colab) (1.3.0)\n",
            "Requirement already satisfied: exceptiongroup in /usr/local/lib/python3.10/dist-packages (from anyio<4,>=3.1.0->jupyter-server>=1.8->nbclassic>=0.4.7->notebook==6.5.5->google.colab) (1.1.3)\n",
            "Requirement already satisfied: pycparser in /usr/local/lib/python3.10/dist-packages (from cffi>=1.0.1->argon2-cffi-bindings->argon2-cffi->notebook==6.5.5->google.colab) (2.21)\n",
            "Drive already mounted at /content/drive; to attempt to forcibly remount, call drive.mount(\"/content/drive\", force_remount=True).\n"
          ]
        }
      ]
    },
    {
      "cell_type": "markdown",
      "id": "bd95ed0c",
      "metadata": {
        "id": "bd95ed0c"
      },
      "source": [
        "# Data Pre-Processing\n",
        "\n",
        "Open **dan_train.csv** file and split the games into a list.\n",
        "Every row of csv: `DL0000000001,B,B[pd],W[dp],B[pp],W[dc],B[de],...`.\n",
        "\n",
        "Columns are:\n",
        "\n",
        "    1. DL0000000001: Game ID\n",
        "    2. B: Player's color\n",
        "    3-... : Moves\n",
        "    \n",
        "We cropped only the moves to game list as:"
      ]
    },
    {
      "cell_type": "code",
      "execution_count": 9,
      "id": "2f8872fd",
      "metadata": {
        "id": "2f8872fd"
      },
      "outputs": [],
      "source": [
        "df = open('./CSVs/Tutorial_dan_train.csv').read().splitlines()\n",
        "games = [i.split(',',2)[-1] for i in df]"
      ]
    },
    {
      "cell_type": "markdown",
      "id": "58532b01",
      "metadata": {
        "id": "58532b01"
      },
      "source": [
        "Create a dictionary to convert the coordinates from characters to numbers"
      ]
    },
    {
      "cell_type": "code",
      "execution_count": 10,
      "id": "496585f2",
      "metadata": {
        "id": "496585f2",
        "outputId": "28be2ac4-3e24-4890-ee86-e8f5e054e798",
        "colab": {
          "base_uri": "https://localhost:8080/"
        }
      },
      "outputs": [
        {
          "output_type": "execute_result",
          "data": {
            "text/plain": [
              "{'a': 0,\n",
              " 'b': 1,\n",
              " 'c': 2,\n",
              " 'd': 3,\n",
              " 'e': 4,\n",
              " 'f': 5,\n",
              " 'g': 6,\n",
              " 'h': 7,\n",
              " 'i': 8,\n",
              " 'j': 9,\n",
              " 'k': 10,\n",
              " 'l': 11,\n",
              " 'm': 12,\n",
              " 'n': 13,\n",
              " 'o': 14,\n",
              " 'p': 15,\n",
              " 'q': 16,\n",
              " 'r': 17,\n",
              " 's': 18}"
            ]
          },
          "metadata": {},
          "execution_count": 10
        }
      ],
      "source": [
        "chars = 'abcdefghijklmnopqrs'\n",
        "coordinates = {k:v for v,k in enumerate(chars)}\n",
        "chartonumbers = {k:v for k,v in enumerate(chars)}\n",
        "coordinates"
      ]
    },
    {
      "cell_type": "markdown",
      "id": "92277370",
      "metadata": {
        "id": "92277370"
      },
      "source": [
        "We decided to build a DCNN model in this tutorial. We create data samples by using every move in every game, meaning that the target is to predict the next move by feeding the previous state of the table in every game for every move. Therefore, we can collect much more data samples from games.\n",
        "\n",
        "For the simplicity, we used 4 dimensional feature map to represent the data as below:\n",
        " 1. Positions of black stones: mark them as 1 and the rest of the table as 0\n",
        " 2. Positions of white stones: mark them as 1 and the rest of the table as 0\n",
        " 3. Empty areas of the table: mark the empty areas as 1 and occupied areas as 0\n",
        " 4. The last move in the table: mark the position of the last move as 1 and the rest as 0\n",
        "\n",
        "Target value is a number between 0-361(19\\*19). Later this will be one-hot encoded."
      ]
    },
    {
      "cell_type": "code",
      "execution_count": 11,
      "id": "0adb423c",
      "metadata": {
        "id": "0adb423c"
      },
      "outputs": [],
      "source": [
        "def prepare_input(moves):\n",
        "    x = np.zeros((19,19,4))\n",
        "    for move in moves:\n",
        "        color = move[0]\n",
        "        column = coordinates[move[2]]\n",
        "        row = coordinates[move[3]]\n",
        "        if color == 'B':\n",
        "            x[row,column,0] = 1\n",
        "            x[row,column,2] = 1\n",
        "        if color == 'W':\n",
        "            x[row,column,1] = 1\n",
        "            x[row,column,2] = 1\n",
        "    if moves:\n",
        "        last_move_column = coordinates[moves[-1][2]]\n",
        "        last_move_row = coordinates[moves[-1][3]]\n",
        "        x[row,column,3] = 1\n",
        "    x[:,:,2] = np.where(x[:,:,2] == 0, 1, 0)\n",
        "    return x\n",
        "\n",
        "def prepare_label(move):\n",
        "    column = coordinates[move[2]]\n",
        "    row = coordinates[move[3]]\n",
        "    return column*19+row"
      ]
    },
    {
      "cell_type": "code",
      "execution_count": 12,
      "id": "758808ae",
      "metadata": {
        "id": "758808ae",
        "outputId": "1d6d0cd5-5d7f-4e50-ae63-9b2ce88cf8e2",
        "colab": {
          "base_uri": "https://localhost:8080/"
        }
      },
      "outputs": [
        {
          "output_type": "stream",
          "name": "stdout",
          "text": [
            "Total Games: 1280, Total Moves: 297110\n"
          ]
        }
      ],
      "source": [
        "# Check how many samples can be obtained\n",
        "n_games = 0\n",
        "n_moves = 0\n",
        "for game in games:\n",
        "    n_games += 1\n",
        "    moves_list = game.split(',')\n",
        "    for move in moves_list:\n",
        "        n_moves += 1\n",
        "print(f\"Total Games: {n_games}, Total Moves: {n_moves}\")"
      ]
    },
    {
      "cell_type": "markdown",
      "id": "46403360",
      "metadata": {
        "id": "46403360"
      },
      "source": [
        "The code below is run for baseline model only by using only the first 500 games from the dataset. You might need to create a data generator to use complete dataset. Otherwise your RAM might not enough to store all (If you run the code on free version of Google Colab, it will crash above 500 game samples)."
      ]
    },
    {
      "cell_type": "code",
      "execution_count": 13,
      "id": "a9bb0ab0",
      "metadata": {
        "id": "a9bb0ab0"
      },
      "outputs": [],
      "source": [
        "x = []\n",
        "y = []\n",
        "for game in games[:500]:\n",
        "    moves_list = game.split(',')\n",
        "    for count, move in enumerate(moves_list):\n",
        "        x.append(prepare_input(moves_list[:count]))\n",
        "        y.append(prepare_label(moves_list[count]))\n",
        "x = np.array(x)\n",
        "y = np.array(y)"
      ]
    },
    {
      "cell_type": "code",
      "execution_count": 14,
      "id": "5b2392a4",
      "metadata": {
        "id": "5b2392a4",
        "outputId": "58a0610b-0fcd-4d78-e95c-6c6ce67f76c7",
        "colab": {
          "base_uri": "https://localhost:8080/"
        }
      },
      "outputs": [
        {
          "output_type": "execute_result",
          "data": {
            "text/plain": [
              "(118278, 19, 19, 4)"
            ]
          },
          "metadata": {},
          "execution_count": 14
        }
      ],
      "source": [
        "x.shape"
      ]
    },
    {
      "cell_type": "code",
      "execution_count": null,
      "id": "73521b4f",
      "metadata": {
        "id": "73521b4f",
        "outputId": "2926aebf-704c-47d2-b41d-f3340bc2efe6"
      },
      "outputs": [
        {
          "data": {
            "text/plain": [
              "(118777,)"
            ]
          },
          "execution_count": 25,
          "metadata": {},
          "output_type": "execute_result"
        }
      ],
      "source": [
        "y.shape"
      ]
    },
    {
      "cell_type": "code",
      "execution_count": null,
      "id": "5510a7a6",
      "metadata": {
        "id": "5510a7a6"
      },
      "outputs": [],
      "source": [
        "y_one_hot = tf.one_hot(y, depth=19*19)"
      ]
    },
    {
      "cell_type": "markdown",
      "id": "78b048ff",
      "metadata": {
        "id": "78b048ff"
      },
      "source": [
        "Dataset splitting: 90% Training, 10% validation"
      ]
    },
    {
      "cell_type": "code",
      "execution_count": null,
      "id": "3f594acb",
      "metadata": {
        "id": "3f594acb"
      },
      "outputs": [],
      "source": [
        "x_train, x_val, y_train, y_val = train_test_split(x, y_one_hot.numpy(), test_size=0.10)"
      ]
    },
    {
      "cell_type": "markdown",
      "id": "7b9c5de9",
      "metadata": {
        "id": "7b9c5de9"
      },
      "source": [
        "# Training\n",
        "\n",
        "### Simple DCNN Model:"
      ]
    },
    {
      "cell_type": "code",
      "execution_count": null,
      "id": "208834da",
      "metadata": {
        "id": "208834da"
      },
      "outputs": [],
      "source": [
        "def create_model():\n",
        "    inputs = Input(shape=(19, 19, 4))\n",
        "    outputs = Conv2D(kernel_size=7, filters=32, padding='same', activation='relu')(inputs)\n",
        "    outputs = Conv2D(kernel_size=7, filters=32, padding='same', activation='relu')(outputs)\n",
        "    outputs = Conv2D(kernel_size=5, filters=32, padding='same', activation='relu')(outputs)\n",
        "    outputs = Conv2D(kernel_size=5, filters=32, padding='same', activation='relu')(outputs)\n",
        "    outputs = Conv2D(kernel_size=3, filters=32, padding='same', activation='relu')(outputs)\n",
        "    outputs = Conv2D(kernel_size=3, filters=1, padding='same', activation='relu')(outputs)\n",
        "    outputs = Flatten()(outputs)\n",
        "    outputs = Softmax()(outputs)\n",
        "    model = Model(inputs, outputs)\n",
        "\n",
        "    opt = Adam(learning_rate=0.001)\n",
        "    model.compile(optimizer=opt,\n",
        "                  loss='categorical_crossentropy',\n",
        "                  metrics=['accuracy'])\n",
        "    return model"
      ]
    },
    {
      "cell_type": "code",
      "execution_count": null,
      "id": "2a66e90d",
      "metadata": {
        "id": "2a66e90d",
        "outputId": "5c25f063-38b0-4c99-9dff-8ca90fc6cc34"
      },
      "outputs": [
        {
          "name": "stdout",
          "output_type": "stream",
          "text": [
            "Model: \"model\"\n",
            "_________________________________________________________________\n",
            " Layer (type)                Output Shape              Param #   \n",
            "=================================================================\n",
            " input_1 (InputLayer)        [(None, 19, 19, 4)]       0         \n",
            "                                                                 \n",
            " conv2d (Conv2D)             (None, 19, 19, 32)        6304      \n",
            "                                                                 \n",
            " conv2d_1 (Conv2D)           (None, 19, 19, 32)        50208     \n",
            "                                                                 \n",
            " conv2d_2 (Conv2D)           (None, 19, 19, 32)        25632     \n",
            "                                                                 \n",
            " conv2d_3 (Conv2D)           (None, 19, 19, 32)        25632     \n",
            "                                                                 \n",
            " conv2d_4 (Conv2D)           (None, 19, 19, 32)        9248      \n",
            "                                                                 \n",
            " conv2d_5 (Conv2D)           (None, 19, 19, 1)         289       \n",
            "                                                                 \n",
            " flatten (Flatten)           (None, 361)               0         \n",
            "                                                                 \n",
            " softmax (Softmax)           (None, 361)               0         \n",
            "                                                                 \n",
            "=================================================================\n",
            "Total params: 117,313\n",
            "Trainable params: 117,313\n",
            "Non-trainable params: 0\n",
            "_________________________________________________________________\n"
          ]
        }
      ],
      "source": [
        "model = create_model()\n",
        "model.summary()"
      ]
    },
    {
      "cell_type": "code",
      "execution_count": null,
      "id": "4a4d7f1c",
      "metadata": {
        "id": "4a4d7f1c",
        "outputId": "ce0a85f2-bf21-4a13-ffc6-b256cacc5585"
      },
      "outputs": [
        {
          "name": "stdout",
          "output_type": "stream",
          "text": [
            "Epoch 1/10\n",
            "836/836 [==============================] - 15s 14ms/step - loss: 4.8747 - accuracy: 0.0469 - val_loss: 4.5146 - val_accuracy: 0.0753\n",
            "Epoch 2/10\n",
            "836/836 [==============================] - 11s 14ms/step - loss: 4.4061 - accuracy: 0.0832 - val_loss: 4.4040 - val_accuracy: 0.0860\n",
            "Epoch 3/10\n",
            "836/836 [==============================] - 11s 14ms/step - loss: 4.2904 - accuracy: 0.1002 - val_loss: 4.3429 - val_accuracy: 0.0974\n",
            "Epoch 4/10\n",
            "836/836 [==============================] - 11s 14ms/step - loss: 4.1692 - accuracy: 0.1231 - val_loss: 4.2078 - val_accuracy: 0.1219\n",
            "Epoch 5/10\n",
            "836/836 [==============================] - 11s 14ms/step - loss: 4.0474 - accuracy: 0.1439 - val_loss: 4.1036 - val_accuracy: 0.1414\n",
            "Epoch 6/10\n",
            "836/836 [==============================] - 11s 14ms/step - loss: 3.9493 - accuracy: 0.1646 - val_loss: 4.0474 - val_accuracy: 0.1534\n",
            "Epoch 7/10\n",
            "836/836 [==============================] - 11s 14ms/step - loss: 3.8689 - accuracy: 0.1814 - val_loss: 4.0065 - val_accuracy: 0.1680\n",
            "Epoch 8/10\n",
            "836/836 [==============================] - 11s 14ms/step - loss: 3.7963 - accuracy: 0.1965 - val_loss: 3.9360 - val_accuracy: 0.1758\n",
            "Epoch 9/10\n",
            "836/836 [==============================] - 11s 14ms/step - loss: 3.7316 - accuracy: 0.2087 - val_loss: 3.9254 - val_accuracy: 0.1796\n",
            "Epoch 10/10\n",
            "836/836 [==============================] - 11s 14ms/step - loss: 3.6743 - accuracy: 0.2208 - val_loss: 3.9139 - val_accuracy: 0.1884\n"
          ]
        }
      ],
      "source": [
        "history = model.fit(\n",
        "    x = x_train,\n",
        "    y = y_train,\n",
        "    batch_size = 128,\n",
        "    epochs = 10,\n",
        "    validation_data=(x_val, y_val),\n",
        ")"
      ]
    },
    {
      "cell_type": "code",
      "execution_count": null,
      "id": "2aaddf0b",
      "metadata": {
        "id": "2aaddf0b"
      },
      "outputs": [],
      "source": [
        "model.save('./model_dan_tutorial.h5')"
      ]
    },
    {
      "cell_type": "markdown",
      "id": "484be28d",
      "metadata": {
        "id": "484be28d"
      },
      "source": [
        "## ALL DONE!\n",
        "\n",
        "For using the model and creating a submission file, follow the notebook **Create Public Upload CSV.ipynb**"
      ]
    },
    {
      "cell_type": "markdown",
      "id": "2f7fafaa",
      "metadata": {
        "id": "2f7fafaa"
      },
      "source": [
        "# End of Tutorial\n",
        "\n",
        "You are free to use more modern NN architectures, a better pre-processing, feature extraction methods to achieve much better accuracy!"
      ]
    },
    {
      "cell_type": "code",
      "execution_count": null,
      "id": "050b4672",
      "metadata": {
        "id": "050b4672"
      },
      "outputs": [],
      "source": []
    }
  ],
  "metadata": {
    "kernelspec": {
      "display_name": "Python 3 (ipykernel)",
      "language": "python",
      "name": "python3"
    },
    "language_info": {
      "codemirror_mode": {
        "name": "ipython",
        "version": 3
      },
      "file_extension": ".py",
      "mimetype": "text/x-python",
      "name": "python",
      "nbconvert_exporter": "python",
      "pygments_lexer": "ipython3",
      "version": "3.9.12"
    },
    "colab": {
      "provenance": [],
      "include_colab_link": true
    }
  },
  "nbformat": 4,
  "nbformat_minor": 5
}