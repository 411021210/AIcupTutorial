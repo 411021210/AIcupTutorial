{
  "cells": [
    {
      "cell_type": "markdown",
      "metadata": {
        "id": "view-in-github",
        "colab_type": "text"
      },
      "source": [
        "<a href=\"https://colab.research.google.com/github/411021210/AIcupTutorial/blob/main/%E3%80%8CDan_Training_Tutorial_checkpoint_ipynb%E3%80%8D%E7%9A%84%E5%89%AF%E6%9C%AC.ipynb\" target=\"_parent\"><img src=\"https://colab.research.google.com/assets/colab-badge.svg\" alt=\"Open In Colab\"/></a>"
      ]
    },
    {
      "cell_type": "code",
      "execution_count": null,
      "id": "bb173248",
      "metadata": {
        "id": "bb173248"
      },
      "outputs": [],
      "source": [
        "import tensorflow as tf\n",
        "from tensorflow.keras.models import Model\n",
        "from tensorflow.keras.layers import Input, Conv2D, ReLU, Flatten, Dense, Softmax\n",
        "from tensorflow.keras.optimizers import Adam\n",
        "import numpy as np\n",
        "from sklearn.model_selection import train_test_split"
      ]
    },
    {
      "cell_type": "code",
      "execution_count": null,
      "id": "62384345",
      "metadata": {
        "id": "62384345",
        "outputId": "e72fae73-1182-469f-b647-b789109a55ea"
      },
      "outputs": [
        {
          "data": {
            "text/plain": [
              "'2.9.1'"
            ]
          },
          "execution_count": 4,
          "metadata": {},
          "output_type": "execute_result"
        }
      ],
      "source": [
        "tf.__version__"
      ]
    },
    {
      "cell_type": "markdown",
      "id": "bd95ed0c",
      "metadata": {
        "id": "bd95ed0c"
      },
      "source": [
        "# Data Pre-Processing\n",
        "\n",
        "Open **dan_train.csv** file and split the games into a list.\n",
        "Every row of csv: `DL0000000001,B,B[pd],W[dp],B[pp],W[dc],B[de],...`.\n",
        "\n",
        "Columns are:\n",
        "\n",
        "    1. DL0000000001: Game ID\n",
        "    2. B: Player's color\n",
        "    3-... : Moves\n",
        "    \n",
        "We cropped only the moves to game list as:"
      ]
    },
    {
      "cell_type": "code",
      "execution_count": 2,
      "id": "2f8872fd",
      "metadata": {
        "id": "2f8872fd",
        "colab": {
          "base_uri": "https://localhost:8080/",
          "height": 195
        },
        "outputId": "05e9b5ff-8956-4e11-f78d-c861b6713dfc"
      },
      "outputs": [
        {
          "output_type": "error",
          "ename": "FileNotFoundError",
          "evalue": "ignored",
          "traceback": [
            "\u001b[0;31m---------------------------------------------------------------------------\u001b[0m",
            "\u001b[0;31mFileNotFoundError\u001b[0m                         Traceback (most recent call last)",
            "\u001b[0;32m<ipython-input-2-a90d392e3552>\u001b[0m in \u001b[0;36m<cell line: 1>\u001b[0;34m()\u001b[0m\n\u001b[0;32m----> 1\u001b[0;31m \u001b[0mdf\u001b[0m \u001b[0;34m=\u001b[0m \u001b[0mopen\u001b[0m\u001b[0;34m(\u001b[0m\u001b[0;34m'./CSVs/Tutorial_dan_train.csv'\u001b[0m\u001b[0;34m)\u001b[0m\u001b[0;34m.\u001b[0m\u001b[0mread\u001b[0m\u001b[0;34m(\u001b[0m\u001b[0;34m)\u001b[0m\u001b[0;34m.\u001b[0m\u001b[0msplitlines\u001b[0m\u001b[0;34m(\u001b[0m\u001b[0;34m)\u001b[0m\u001b[0;34m\u001b[0m\u001b[0;34m\u001b[0m\u001b[0m\n\u001b[0m\u001b[1;32m      2\u001b[0m \u001b[0mgames\u001b[0m \u001b[0;34m=\u001b[0m \u001b[0;34m[\u001b[0m\u001b[0mi\u001b[0m\u001b[0;34m.\u001b[0m\u001b[0msplit\u001b[0m\u001b[0;34m(\u001b[0m\u001b[0;34m','\u001b[0m\u001b[0;34m,\u001b[0m\u001b[0;36m2\u001b[0m\u001b[0;34m)\u001b[0m\u001b[0;34m[\u001b[0m\u001b[0;34m-\u001b[0m\u001b[0;36m1\u001b[0m\u001b[0;34m]\u001b[0m \u001b[0;32mfor\u001b[0m \u001b[0mi\u001b[0m \u001b[0;32min\u001b[0m \u001b[0mdf\u001b[0m\u001b[0;34m]\u001b[0m\u001b[0;34m\u001b[0m\u001b[0;34m\u001b[0m\u001b[0m\n",
            "\u001b[0;31mFileNotFoundError\u001b[0m: [Errno 2] No such file or directory: './CSVs/Tutorial_dan_train.csv'"
          ]
        }
      ],
      "source": [
        "df = open('./CSVs/Tutorial_dan_train.csv').read().splitlines()\n",
        "games = [i.split(',',2)[-1] for i in df]"
      ]
    },
    {
      "cell_type": "markdown",
      "id": "58532b01",
      "metadata": {
        "id": "58532b01"
      },
      "source": [
        "Create a dictionary to convert the coordinates from characters to numbers"
      ]
    },
    {
      "cell_type": "code",
      "execution_count": null,
      "id": "496585f2",
      "metadata": {
        "id": "496585f2"
      },
      "outputs": [],
      "source": [
        "chars = 'abcdefghijklmnopqrs'\n",
        "coordinates = {k:v for v,k in enumerate(chars)}\n",
        "chartonumbers = {k:v for k,v in enumerate(chars)}\n",
        "coordinates"
      ]
    },
    {
      "cell_type": "markdown",
      "id": "92277370",
      "metadata": {
        "id": "92277370"
      },
      "source": [
        "We decided to build a DCNN model in this tutorial. We create data samples by using every move in every game, meaning that the target is to predict the next move by feeding the previous state of the table in every game for every move. Therefore, we can collect much more data samples from games.\n",
        "\n",
        "For the simplicity, we used 4 dimensional feature map to represent the data as below:\n",
        " 1. Positions of black stones: mark them as 1 and the rest of the table as 0\n",
        " 2. Positions of white stones: mark them as 1 and the rest of the table as 0\n",
        " 3. Empty areas of the table: mark the empty areas as 1 and occupied areas as 0\n",
        " 4. The last move in the table: mark the position of the last move as 1 and the rest as 0\n",
        "\n",
        "Target value is a number between 0-361(19\\*19). Later this will be one-hot encoded."
      ]
    },
    {
      "cell_type": "code",
      "execution_count": null,
      "id": "0adb423c",
      "metadata": {
        "id": "0adb423c"
      },
      "outputs": [],
      "source": [
        "def prepare_input(moves):\n",
        "    x = np.zeros((19,19,4))\n",
        "    for move in moves:\n",
        "        color = move[0]\n",
        "        column = coordinates[move[2]]\n",
        "        row = coordinates[move[3]]\n",
        "        if color == 'B':\n",
        "            x[row,column,0] = 1\n",
        "            x[row,column,2] = 1\n",
        "        if color == 'W':\n",
        "            x[row,column,1] = 1\n",
        "            x[row,column,2] = 1\n",
        "    if moves:\n",
        "        last_move_column = coordinates[moves[-1][2]]\n",
        "        last_move_row = coordinates[moves[-1][3]]\n",
        "        x[row,column,3] = 1\n",
        "    x[:,:,2] = np.where(x[:,:,2] == 0, 1, 0)\n",
        "    return x\n",
        "\n",
        "def prepare_label(move):\n",
        "    column = coordinates[move[2]]\n",
        "    row = coordinates[move[3]]\n",
        "    return column*19+row"
      ]
    },
    {
      "cell_type": "code",
      "execution_count": null,
      "id": "758808ae",
      "metadata": {
        "id": "758808ae",
        "outputId": "098f5c28-ac99-436e-fa1c-43b702be2836"
      },
      "outputs": [
        {
          "name": "stdout",
          "output_type": "stream",
          "text": [
            "Total Games: 100160, Total Moves: 22853380\n"
          ]
        }
      ],
      "source": [
        "# Check how many samples can be obtained\n",
        "n_games = 0\n",
        "n_moves = 0\n",
        "for game in games:\n",
        "    n_games += 1\n",
        "    moves_list = game.split(',')\n",
        "    for move in moves_list:\n",
        "        n_moves += 1\n",
        "print(f\"Total Games: {n_games}, Total Moves: {n_moves}\")"
      ]
    },
    {
      "cell_type": "markdown",
      "id": "46403360",
      "metadata": {
        "id": "46403360"
      },
      "source": [
        "The code below is run for baseline model only by using only the first 500 games from the dataset. You might need to create a data generator to use complete dataset. Otherwise your RAM might not enough to store all (If you run the code on free version of Google Colab, it will crash above 500 game samples)."
      ]
    },
    {
      "cell_type": "code",
      "execution_count": null,
      "id": "a9bb0ab0",
      "metadata": {
        "id": "a9bb0ab0"
      },
      "outputs": [],
      "source": [
        "x = []\n",
        "y = []\n",
        "for game in games[:500]:\n",
        "    moves_list = game.split(',')\n",
        "    for count, move in enumerate(moves_list):\n",
        "        x.append(prepare_input(moves_list[:count]))\n",
        "        y.append(prepare_label(moves_list[count]))\n",
        "x = np.array(x)\n",
        "y = np.array(y)"
      ]
    },
    {
      "cell_type": "code",
      "execution_count": null,
      "id": "5b2392a4",
      "metadata": {
        "id": "5b2392a4",
        "outputId": "e903e1d2-c4a0-44a7-a48a-1bd51e648dbc"
      },
      "outputs": [
        {
          "data": {
            "text/plain": [
              "(118777, 19, 19, 4)"
            ]
          },
          "execution_count": 24,
          "metadata": {},
          "output_type": "execute_result"
        }
      ],
      "source": [
        "x.shape"
      ]
    },
    {
      "cell_type": "code",
      "execution_count": null,
      "id": "73521b4f",
      "metadata": {
        "id": "73521b4f",
        "outputId": "2926aebf-704c-47d2-b41d-f3340bc2efe6"
      },
      "outputs": [
        {
          "data": {
            "text/plain": [
              "(118777,)"
            ]
          },
          "execution_count": 25,
          "metadata": {},
          "output_type": "execute_result"
        }
      ],
      "source": [
        "y.shape"
      ]
    },
    {
      "cell_type": "code",
      "execution_count": null,
      "id": "5510a7a6",
      "metadata": {
        "id": "5510a7a6"
      },
      "outputs": [],
      "source": [
        "y_one_hot = tf.one_hot(y, depth=19*19)"
      ]
    },
    {
      "cell_type": "markdown",
      "id": "78b048ff",
      "metadata": {
        "id": "78b048ff"
      },
      "source": [
        "Dataset splitting: 90% Training, 10% validation"
      ]
    },
    {
      "cell_type": "code",
      "execution_count": null,
      "id": "3f594acb",
      "metadata": {
        "id": "3f594acb"
      },
      "outputs": [],
      "source": [
        "x_train, x_val, y_train, y_val = train_test_split(x, y_one_hot.numpy(), test_size=0.10)"
      ]
    },
    {
      "cell_type": "markdown",
      "id": "7b9c5de9",
      "metadata": {
        "id": "7b9c5de9"
      },
      "source": [
        "# Training\n",
        "\n",
        "### Simple DCNN Model:"
      ]
    },
    {
      "cell_type": "code",
      "execution_count": null,
      "id": "208834da",
      "metadata": {
        "id": "208834da"
      },
      "outputs": [],
      "source": [
        "def create_model():\n",
        "    inputs = Input(shape=(19, 19, 4))\n",
        "    outputs = Conv2D(kernel_size=7, filters=32, padding='same', activation='relu')(inputs)\n",
        "    outputs = Conv2D(kernel_size=7, filters=32, padding='same', activation='relu')(outputs)\n",
        "    outputs = Conv2D(kernel_size=5, filters=32, padding='same', activation='relu')(outputs)\n",
        "    outputs = Conv2D(kernel_size=5, filters=32, padding='same', activation='relu')(outputs)\n",
        "    outputs = Conv2D(kernel_size=3, filters=32, padding='same', activation='relu')(outputs)\n",
        "    outputs = Conv2D(kernel_size=3, filters=1, padding='same', activation='relu')(outputs)\n",
        "    outputs = Flatten()(outputs)\n",
        "    outputs = Softmax()(outputs)\n",
        "    model = Model(inputs, outputs)\n",
        "\n",
        "    opt = Adam(learning_rate=0.001)\n",
        "    model.compile(optimizer=opt,\n",
        "                  loss='categorical_crossentropy',\n",
        "                  metrics=['accuracy'])\n",
        "    return model"
      ]
    },
    {
      "cell_type": "code",
      "execution_count": null,
      "id": "2a66e90d",
      "metadata": {
        "id": "2a66e90d",
        "outputId": "5c25f063-38b0-4c99-9dff-8ca90fc6cc34"
      },
      "outputs": [
        {
          "name": "stdout",
          "output_type": "stream",
          "text": [
            "Model: \"model\"\n",
            "_________________________________________________________________\n",
            " Layer (type)                Output Shape              Param #   \n",
            "=================================================================\n",
            " input_1 (InputLayer)        [(None, 19, 19, 4)]       0         \n",
            "                                                                 \n",
            " conv2d (Conv2D)             (None, 19, 19, 32)        6304      \n",
            "                                                                 \n",
            " conv2d_1 (Conv2D)           (None, 19, 19, 32)        50208     \n",
            "                                                                 \n",
            " conv2d_2 (Conv2D)           (None, 19, 19, 32)        25632     \n",
            "                                                                 \n",
            " conv2d_3 (Conv2D)           (None, 19, 19, 32)        25632     \n",
            "                                                                 \n",
            " conv2d_4 (Conv2D)           (None, 19, 19, 32)        9248      \n",
            "                                                                 \n",
            " conv2d_5 (Conv2D)           (None, 19, 19, 1)         289       \n",
            "                                                                 \n",
            " flatten (Flatten)           (None, 361)               0         \n",
            "                                                                 \n",
            " softmax (Softmax)           (None, 361)               0         \n",
            "                                                                 \n",
            "=================================================================\n",
            "Total params: 117,313\n",
            "Trainable params: 117,313\n",
            "Non-trainable params: 0\n",
            "_________________________________________________________________\n"
          ]
        }
      ],
      "source": [
        "model = create_model()\n",
        "model.summary()"
      ]
    },
    {
      "cell_type": "code",
      "execution_count": null,
      "id": "4a4d7f1c",
      "metadata": {
        "id": "4a4d7f1c",
        "outputId": "ce0a85f2-bf21-4a13-ffc6-b256cacc5585"
      },
      "outputs": [
        {
          "name": "stdout",
          "output_type": "stream",
          "text": [
            "Epoch 1/10\n",
            "836/836 [==============================] - 15s 14ms/step - loss: 4.8747 - accuracy: 0.0469 - val_loss: 4.5146 - val_accuracy: 0.0753\n",
            "Epoch 2/10\n",
            "836/836 [==============================] - 11s 14ms/step - loss: 4.4061 - accuracy: 0.0832 - val_loss: 4.4040 - val_accuracy: 0.0860\n",
            "Epoch 3/10\n",
            "836/836 [==============================] - 11s 14ms/step - loss: 4.2904 - accuracy: 0.1002 - val_loss: 4.3429 - val_accuracy: 0.0974\n",
            "Epoch 4/10\n",
            "836/836 [==============================] - 11s 14ms/step - loss: 4.1692 - accuracy: 0.1231 - val_loss: 4.2078 - val_accuracy: 0.1219\n",
            "Epoch 5/10\n",
            "836/836 [==============================] - 11s 14ms/step - loss: 4.0474 - accuracy: 0.1439 - val_loss: 4.1036 - val_accuracy: 0.1414\n",
            "Epoch 6/10\n",
            "836/836 [==============================] - 11s 14ms/step - loss: 3.9493 - accuracy: 0.1646 - val_loss: 4.0474 - val_accuracy: 0.1534\n",
            "Epoch 7/10\n",
            "836/836 [==============================] - 11s 14ms/step - loss: 3.8689 - accuracy: 0.1814 - val_loss: 4.0065 - val_accuracy: 0.1680\n",
            "Epoch 8/10\n",
            "836/836 [==============================] - 11s 14ms/step - loss: 3.7963 - accuracy: 0.1965 - val_loss: 3.9360 - val_accuracy: 0.1758\n",
            "Epoch 9/10\n",
            "836/836 [==============================] - 11s 14ms/step - loss: 3.7316 - accuracy: 0.2087 - val_loss: 3.9254 - val_accuracy: 0.1796\n",
            "Epoch 10/10\n",
            "836/836 [==============================] - 11s 14ms/step - loss: 3.6743 - accuracy: 0.2208 - val_loss: 3.9139 - val_accuracy: 0.1884\n"
          ]
        }
      ],
      "source": [
        "history = model.fit(\n",
        "    x = x_train,\n",
        "    y = y_train,\n",
        "    batch_size = 128,\n",
        "    epochs = 10,\n",
        "    validation_data=(x_val, y_val),\n",
        ")"
      ]
    },
    {
      "cell_type": "code",
      "execution_count": null,
      "id": "2aaddf0b",
      "metadata": {
        "id": "2aaddf0b"
      },
      "outputs": [],
      "source": [
        "model.save('./model_dan_tutorial.h5')"
      ]
    },
    {
      "cell_type": "markdown",
      "id": "484be28d",
      "metadata": {
        "id": "484be28d"
      },
      "source": [
        "## ALL DONE!\n",
        "\n",
        "For using the model and creating a submission file, follow the notebook **Create Public Upload CSV.ipynb**"
      ]
    },
    {
      "cell_type": "markdown",
      "id": "2f7fafaa",
      "metadata": {
        "id": "2f7fafaa"
      },
      "source": [
        "# End of Tutorial\n",
        "\n",
        "You are free to use more modern NN architectures, a better pre-processing, feature extraction methods to achieve much better accuracy!"
      ]
    },
    {
      "cell_type": "code",
      "execution_count": null,
      "id": "050b4672",
      "metadata": {
        "id": "050b4672"
      },
      "outputs": [],
      "source": []
    }
  ],
  "metadata": {
    "kernelspec": {
      "display_name": "Python 3 (ipykernel)",
      "language": "python",
      "name": "python3"
    },
    "language_info": {
      "codemirror_mode": {
        "name": "ipython",
        "version": 3
      },
      "file_extension": ".py",
      "mimetype": "text/x-python",
      "name": "python",
      "nbconvert_exporter": "python",
      "pygments_lexer": "ipython3",
      "version": "3.9.12"
    },
    "colab": {
      "provenance": [],
      "include_colab_link": true
    }
  },
  "nbformat": 4,
  "nbformat_minor": 5
}